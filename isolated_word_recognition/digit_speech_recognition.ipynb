{
 "cells": [
  {
   "cell_type": "code",
   "execution_count": 1,
   "id": "8ac086cb",
   "metadata": {},
   "outputs": [],
   "source": [
    "import glob\n",
    "import numpy as np\n",
    "from hmmlearn import hmm\n",
    "from scipy.io import wavfile\n",
    "from collections import defaultdict\n",
    "from python_speech_features import mfcc"
   ]
  },
  {
   "cell_type": "code",
   "execution_count": 2,
   "id": "20e629ff",
   "metadata": {},
   "outputs": [],
   "source": [
    "data_path = glob.glob('digit_speech/*')"
   ]
  },
  {
   "cell_type": "code",
   "execution_count": 9,
   "id": "909f1512",
   "metadata": {},
   "outputs": [],
   "source": [
    "def feature_analysis(x):\n",
    "    return mfcc(x, sr, winlen=0.025, winstep=0.01, preemph=0.95, winfunc=np.hamming)"
   ]
  },
  {
   "cell_type": "code",
   "execution_count": 10,
   "id": "c34ee201",
   "metadata": {},
   "outputs": [],
   "source": [
    "data = defaultdict(list)\n",
    "for path in data_path:\n",
    "    sr, signal = wavfile.read(path)\n",
    "    # get features from speech signal\n",
    "    signal = feature_analysis(signal)\n",
    "    label = path.split('\\\\')[-1].split('_', 1)[0]\n",
    "    data[int(label)].append(signal)"
   ]
  },
  {
   "cell_type": "code",
   "execution_count": 11,
   "id": "c616b2f7",
   "metadata": {},
   "outputs": [
    {
     "name": "stdout",
     "output_type": "stream",
     "text": [
      "240 60\n"
     ]
    }
   ],
   "source": [
    "train = dict()\n",
    "test = dict()\n",
    "\n",
    "all_size = len(data[0])\n",
    "\n",
    "train_size = int(0.8 * all_size)\n",
    "test_size = int(all_size - train_size)\n",
    "\n",
    "print(train_size, test_size)\n",
    "\n",
    "for label in data.keys():\n",
    "    train[label] = np.array([])\n",
    "    test[label] = list()\n",
    "    for feature in data[label][:train_size]:\n",
    "        if train[label].shape[0] == 0:\n",
    "            train[label] = feature\n",
    "        else:\n",
    "            train[label] = np.append(train[label], feature, axis=0)\n",
    "    for feature in data[label][-test_size:]:\n",
    "        test[label].append(feature)"
   ]
  },
  {
   "cell_type": "code",
   "execution_count": 12,
   "id": "621dacd7",
   "metadata": {},
   "outputs": [],
   "source": [
    "def loglh(model, observation):\n",
    "    ll, _ = model.decode(observation)\n",
    "    return ll\n",
    "\n",
    "def predict_speech(observation):\n",
    "    loglikelihood = [loglh(model, observation) for model in speech_model.values()]\n",
    "    return np.argmax(loglikelihood)"
   ]
  },
  {
   "cell_type": "code",
   "execution_count": 13,
   "id": "c2d64739",
   "metadata": {
    "scrolled": true
   },
   "outputs": [],
   "source": [
    "speech_model = dict()\n",
    "for label in np.arange(10):\n",
    "    speech_model[label] = hmm.GMMHMM(n_components=2, n_mix=2, n_iter=1000, verbose=False)\n",
    "    speech_model[label].fit(train[label])"
   ]
  },
  {
   "cell_type": "code",
   "execution_count": 14,
   "id": "7f15d476",
   "metadata": {},
   "outputs": [
    {
     "name": "stdout",
     "output_type": "stream",
     "text": [
      "Accuracy: 0.75\n"
     ]
    }
   ],
   "source": [
    "true = 0\n",
    "test_data_size = 0\n",
    "for label in range(10):\n",
    "    for observation in test[label]:\n",
    "        pred = predict_speech(observation)\n",
    "        true += pred == label\n",
    "        test_data_size += 1\n",
    "print(\"Accuracy: %.2f\" % (true / test_data_size))"
   ]
  }
 ],
 "metadata": {
  "kernelspec": {
   "display_name": "Python 3",
   "language": "python",
   "name": "python3"
  },
  "language_info": {
   "codemirror_mode": {
    "name": "ipython",
    "version": 3
   },
   "file_extension": ".py",
   "mimetype": "text/x-python",
   "name": "python",
   "nbconvert_exporter": "python",
   "pygments_lexer": "ipython3",
   "version": "3.8.8"
  }
 },
 "nbformat": 4,
 "nbformat_minor": 5
}
