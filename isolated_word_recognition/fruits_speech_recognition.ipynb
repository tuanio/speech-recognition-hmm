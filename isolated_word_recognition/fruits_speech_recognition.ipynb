{
 "cells": [
  {
   "cell_type": "code",
   "execution_count": 29,
   "id": "604a27f0",
   "metadata": {},
   "outputs": [],
   "source": [
    "import glob\n",
    "import librosa\n",
    "import numpy as np\n",
    "from hmmlearn import hmm\n",
    "from scipy.io import wavfile\n",
    "from collections import defaultdict\n",
    "from python_speech_features import mfcc"
   ]
  },
  {
   "cell_type": "code",
   "execution_count": 30,
   "id": "2271231e",
   "metadata": {},
   "outputs": [],
   "source": [
    "db = defaultdict(list)"
   ]
  },
  {
   "cell_type": "code",
   "execution_count": 31,
   "id": "f3a493b7",
   "metadata": {},
   "outputs": [],
   "source": [
    "for path in glob.glob('audio/*'):\n",
    "    label = path.split('\\\\')[-1]\n",
    "    for wav_path in glob.glob(path + '/*'):\n",
    "        sr, signal = wavfile.read(wav_path)\n",
    "        db[label].append(signal.astype('float'))"
   ]
  },
  {
   "cell_type": "code",
   "execution_count": 32,
   "id": "00272b26",
   "metadata": {},
   "outputs": [
    {
     "data": {
      "text/plain": [
       "8000"
      ]
     },
     "execution_count": 32,
     "metadata": {},
     "output_type": "execute_result"
    }
   ],
   "source": [
    "sr"
   ]
  },
  {
   "cell_type": "code",
   "execution_count": 33,
   "id": "a025bcfc",
   "metadata": {},
   "outputs": [
    {
     "data": {
      "text/plain": [
       "['audio\\\\apple',\n",
       " 'audio\\\\banana',\n",
       " 'audio\\\\kiwi',\n",
       " 'audio\\\\lime',\n",
       " 'audio\\\\orange',\n",
       " 'audio\\\\peach',\n",
       " 'audio\\\\pineapple']"
      ]
     },
     "execution_count": 33,
     "metadata": {},
     "output_type": "execute_result"
    }
   ],
   "source": [
    "glob.glob('audio/*')"
   ]
  },
  {
   "cell_type": "code",
   "execution_count": 34,
   "id": "07f410ee",
   "metadata": {},
   "outputs": [],
   "source": [
    "# get features\n",
    "# 1. pre-emphasis with 0.97\n",
    "# 2. framing with each frame size 25ms, step size 10ms\n",
    "# 3. apply Hamming window function\n",
    "# 4. FFT\n",
    "# 5. Mel frequency cepstrum\n",
    "features = defaultdict(list)\n",
    "for label in db.keys():\n",
    "    features[label] = list(map(lambda x: mfcc(x, sr, winfunc=np.hamming), db[label]))"
   ]
  },
  {
   "cell_type": "code",
   "execution_count": 37,
   "id": "dd34f7c2",
   "metadata": {},
   "outputs": [],
   "source": [
    "train = dict()\n",
    "test = dict()\n",
    "test_size = int(0.2 * len(features['apple']))\n",
    "for label in features.keys():\n",
    "    train[label] = np.array([])\n",
    "    test[label] = list()\n",
    "    for feature in features[label][:-test_size]:\n",
    "        if train[label].shape[0] == 0:\n",
    "            train[label] = feature\n",
    "        else:\n",
    "            train[label] = np.append(train[label], feature, axis=0)\n",
    "    for feature in features[label][-test_size:]:\n",
    "        test[label].append(feature)"
   ]
  },
  {
   "cell_type": "code",
   "execution_count": 38,
   "id": "db26c73f",
   "metadata": {},
   "outputs": [
    {
     "data": {
      "text/plain": [
       "(474, 13)"
      ]
     },
     "execution_count": 38,
     "metadata": {},
     "output_type": "execute_result"
    }
   ],
   "source": [
    "train['apple'].shape"
   ]
  },
  {
   "cell_type": "code",
   "execution_count": 39,
   "id": "86ca0d70",
   "metadata": {},
   "outputs": [],
   "source": [
    "models = dict()\n",
    "for label in features.keys():\n",
    "    models[label] = hmm.GaussianHMM(n_components=5, n_iter=100).fit(train[label])"
   ]
  },
  {
   "cell_type": "code",
   "execution_count": 40,
   "id": "426d053a",
   "metadata": {},
   "outputs": [
    {
     "data": {
      "text/plain": [
       "{'apple': GaussianHMM(n_components=5, n_iter=100),\n",
       " 'banana': GaussianHMM(n_components=5, n_iter=100),\n",
       " 'kiwi': GaussianHMM(n_components=5, n_iter=100),\n",
       " 'lime': GaussianHMM(n_components=5, n_iter=100),\n",
       " 'orange': GaussianHMM(n_components=5, n_iter=100),\n",
       " 'peach': GaussianHMM(n_components=5, n_iter=100),\n",
       " 'pineapple': GaussianHMM(n_components=5, n_iter=100)}"
      ]
     },
     "execution_count": 40,
     "metadata": {},
     "output_type": "execute_result"
    }
   ],
   "source": [
    "models"
   ]
  },
  {
   "cell_type": "code",
   "execution_count": 41,
   "id": "62935b38",
   "metadata": {},
   "outputs": [],
   "source": [
    "def predict_speech(sample):\n",
    "    def get_ll(model):\n",
    "        ll, hidden = model.decode(sample)\n",
    "        return ll\n",
    "    predicted_ll = [get_ll(model) for label, model in models.items()]\n",
    "    labels = list(models.keys())\n",
    "    idx = np.argmax(predicted_ll)\n",
    "    return labels[idx]"
   ]
  },
  {
   "cell_type": "code",
   "execution_count": 42,
   "id": "6dde065f",
   "metadata": {
    "scrolled": true
   },
   "outputs": [
    {
     "name": "stdout",
     "output_type": "stream",
     "text": [
      "Accuracy: 1.00\n"
     ]
    }
   ],
   "source": [
    "len_data = 0\n",
    "right_predicted = 0\n",
    "for label, data in test.items():\n",
    "    for datum in data:\n",
    "        pred = predict_speech(datum)\n",
    "        len_data += 1\n",
    "        right_predicted += pred == label\n",
    "#         print(\"Actual: {}, Predicted: {}\".format(label, pred))\n",
    "print(\"Accuracy: %.2f\" % (right_predicted / len_data))"
   ]
  }
 ],
 "metadata": {
  "kernelspec": {
   "display_name": "Python 3",
   "language": "python",
   "name": "python3"
  },
  "language_info": {
   "codemirror_mode": {
    "name": "ipython",
    "version": 3
   },
   "file_extension": ".py",
   "mimetype": "text/x-python",
   "name": "python",
   "nbconvert_exporter": "python",
   "pygments_lexer": "ipython3",
   "version": "3.8.8"
  }
 },
 "nbformat": 4,
 "nbformat_minor": 5
}
